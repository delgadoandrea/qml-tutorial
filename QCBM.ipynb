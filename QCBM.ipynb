{
 "cells": [
  {
   "cell_type": "markdown",
   "metadata": {},
   "source": [
    "## Quantum Circuit Born Machines\n",
    "\n",
    "This notebook will walk you through the basics of setting up a Quantum Circuit Born Machine (QCBM) to represent and lear the probability distribution of a classical dataset as quantum pure states.\n",
    "\n",
    "The Notebook uses Xanadu's [PennyLane](https://pennylane.ai) library for differentiable programming of quantum computers. If you are not familiar with PennyLane, check out their [demos](https://pennylane.ai/qml/demonstrations.html) to get started. "
   ]
  },
  {
   "cell_type": "code",
   "execution_count": 1,
   "metadata": {},
   "outputs": [
    {
     "name": "stderr",
     "output_type": "stream",
     "text": [
      "/usr/local/Cellar/python@3.9/3.9.10/Frameworks/Python.framework/Versions/3.9/lib/python3.9/site-packages/_distutils_hack/__init__.py:30: UserWarning: Setuptools is replacing distutils.\n",
      "  warnings.warn(\"Setuptools is replacing distutils.\")\n"
     ]
    }
   ],
   "source": [
    "import pandas as pd\n",
    "import matplotlib.pyplot as plt\n",
    "from pennylane import numpy as np\n",
    "import scipy\n",
    "from pennylane.templates import BasicEntanglerLayers,StronglyEntanglingLayers,RandomLayers"
   ]
  },
  {
   "cell_type": "code",
   "execution_count": 2,
   "metadata": {},
   "outputs": [
    {
     "data": {
      "text/plain": [
       "'0.20.0'"
      ]
     },
     "execution_count": 2,
     "metadata": {},
     "output_type": "execute_result"
    }
   ],
   "source": [
    "import pennylane as qml\n",
    "qml.__version__"
   ]
  },
  {
   "cell_type": "markdown",
   "metadata": {},
   "source": [
    "### Set up your target distribution here\n",
    "\n",
    "As a toy example, let's try and learn a Gaussian distribution over n_{qubits}^{2} basis states."
   ]
  },
  {
   "cell_type": "code",
   "execution_count": 3,
   "metadata": {},
   "outputs": [],
   "source": [
    "n_qubits = 4\n",
    "bin_state_rep = [np.binary_repr(x,n_qubits) \\\n",
    "                      for x in range(2**n_qubits)]\n",
    "n_basis = 2**n_qubits\n",
    "P_target=np.zeros(n_basis)\n",
    "\n",
    "# Generate a Gaussian distribution centered at n_basis/2\n",
    "mean, standard_deviation = n_basis/2,2.5\n",
    "x_values = np.arange(0,n_basis-1,1)\n",
    "y_values = scipy.stats.norm(mean,standard_deviation)\n",
    "for q in range(0,2**n_qubits-1):\n",
    "    P_target[q] = y_values.pdf(x_values[q]) "
   ]
  },
  {
   "cell_type": "code",
   "execution_count": 4,
   "metadata": {},
   "outputs": [
    {
     "data": {
      "image/png": "[encoded data removed]",
      "text/plain": [
       "<Figure size 432x288 with 1 Axes>"
      ]
     },
     "metadata": {
      "needs_background": "light"
     },
     "output_type": "display_data"
    }
   ],
   "source": [
    "data_df = pd.DataFrame(P_target)\n",
    "data_df.columns=['Target Distribution']\n",
    "ax = data_df.plot(kind='bar',color='pink',rot=0)\n",
    "ax.set(xlabel=\"Basis states\", ylabel=\"A.U.\")\n",
    "\n",
    "plt.show()"
   ]
  },
  {
   "cell_type": "markdown",
   "metadata": {},
   "source": [
    "### Parameterized Quantum Circuit\n",
    "\n",
    "A *parameterized quantum circuit* consists of layers or blocks of rotational and entangling gates that can be repeated to maximize the circuit's expressibility.\n",
    "\n",
    "We use the `BasicEntanglingLayers` **template** available from `PennyLane`. But there are many other templates available, and it will depend on your application, and what kind of hardware you want to deploy it on, because of connectivity limitations, the more CNOTs you have on your circuit, the harder it is to find a device to run it."
   ]
  },
  {
   "cell_type": "code",
   "execution_count": 5,
   "metadata": {},
   "outputs": [],
   "source": [
    "n_layers = 6\n",
    "\n",
    "# We initialize the circuit parameters randomly. For BasicEntanglingLayers, we \n",
    "# only have one layer of rotational parameters, followed by CNOTs\n",
    "init_params = (2.*np.pi)*np.random.random(n_layers*n_qubits)\n",
    "# We have to do this because PennyLane likes to have a list of wires or qubits.\n",
    "dev_wires = [np.array(idx, requires_grad=True) for idx in range(n_qubits)]\n",
    "\n",
    "# Select backend, qubit is the default simulator backend for PennyLane, but you can also use 'mixed'\n",
    "# to simulate noise, or other hardware backends.\n",
    "dev = qml.device('default.qubit', wires=dev_wires)"
   ]
  },
  {
   "cell_type": "code",
   "execution_count": 6,
   "metadata": {},
   "outputs": [],
   "source": [
    "# The template is used inside a qnode, which is required by Pennylane as a way to keep a box of quantum things and another one for classical things.\n",
    "@qml.qnode(dev)\n",
    "def circuit(init_params):\n",
    "    # We get the \"shape\" of the circuit or template, to figure out how to arrange the parameters\n",
    "    # we need to initialize\n",
    "    shape = BasicEntanglerLayers.shape(n_layers=n_layers, n_wires=n_qubits)\n",
    "    params=np.asarray(init_params).reshape(shape)\n",
    "    #dev_wires = [np.array(idx, requires_grad=True) for idx in range(n_qubits)]\n",
    "\n",
    "    # Build your template.\n",
    "    BasicEntanglerLayers(params,wires=dev_wires)\n",
    "    return qml.probs(wires=dev_wires)"
   ]
  },
  {
   "cell_type": "code",
   "execution_count": 21,
   "metadata": {},
   "outputs": [
    {
     "data": {
      "text/plain": [
       "<AxesSubplot:>"
      ]
     },
     "execution_count": 21,
     "metadata": {},
     "output_type": "execute_result"
    },
    {
     "data": {
      "image/png": "[encoded data removed]",
      "text/plain": [
       "<Figure size 432x288 with 1 Axes>"
      ]
     },
     "metadata": {
      "needs_background": "light"
     },
     "output_type": "display_data"
    }
   ],
   "source": [
    "data_df = pd.DataFrame(circuit(init_params))\n",
    "data_df.columns=['Initialized Values']\n",
    "data_df['Target Distribution'] = pd.DataFrame(P_target)\n",
    "data_df.plot(kind='bar',color={\"pink\", \"violet\"},rot=0)"
   ]
  },
  {
   "cell_type": "markdown",
   "metadata": {},
   "source": [
    "We can now define a loss function between two probability distributions. Again, you can code more fancy functions, depending on your application."
   ]
  },
  {
   "cell_type": "code",
   "execution_count": 22,
   "metadata": {},
   "outputs": [],
   "source": [
    "def cosine_distance(p,q):\n",
    "    #p = target\n",
    "    pnorm = np.sqrt(np.sum([x**2 for x in p]))\n",
    "\n",
    "    #q = pdf(params)\n",
    "    qnorm = np.sqrt(np.sum([x**2 for x in q]))\n",
    "    return 1.0 - (p@q)/(pnorm*qnorm)\n"
   ]
  },
  {
   "cell_type": "markdown",
   "metadata": {},
   "source": [
    "Use a gradient-based classical optimizer to train the circuit and update parameters."
   ]
  },
  {
   "cell_type": "code",
   "execution_count": 23,
   "metadata": {},
   "outputs": [],
   "source": [
    "nsteps=100 # number of training steps to execute \n",
    "\n",
    "# There are several optimizers available in PennyLane, but this is the one\n",
    "# we found to give better performance\n",
    "opt_method = qml.AdamOptimizer\n",
    "opt = opt_method(stepsize=0.1) "
   ]
  },
  {
   "cell_type": "code",
   "execution_count": 25,
   "metadata": {},
   "outputs": [],
   "source": [
    "# Make a copy of the initial parameters, since the 'params' variable will be updated during training.\n",
    "params = init_params.copy()\n",
    "\n",
    "for i in range(nsteps):\n",
    "    # update the circuit parameters in each iteration\n",
    "    params = opt.step(lambda v: cosine_distance(P_target,circuit(v)), params)"
   ]
  },
  {
   "cell_type": "code",
   "execution_count": 28,
   "metadata": {},
   "outputs": [
    {
     "data": {
      "text/plain": [
       "<AxesSubplot:>"
      ]
     },
     "execution_count": 28,
     "metadata": {},
     "output_type": "execute_result"
    },
    {
     "data": {
      "image/png": "[encoded data removed]",
      "text/plain": [
       "<Figure size 432x288 with 1 Axes>"
      ]
     },
     "metadata": {
      "needs_background": "light"
     },
     "output_type": "display_data"
    }
   ],
   "source": [
    "data_df = pd.DataFrame(circuit(params))\n",
    "data_df.columns=['Optimal Values']\n",
    "data_df['Target Distribution'] = pd.DataFrame(P_target)\n",
    "data_df.plot(kind='bar',color={\"pink\", \"violet\"},rot=0)"
   ]
  },
  {
   "cell_type": "code",
   "execution_count": null,
   "metadata": {},
   "outputs": [],
   "source": []
  }
 ],
 "metadata": {
  "kernelspec": {
   "display_name": "Python 3.9.10 64-bit",
   "language": "python",
   "name": "python3"
  },
  "language_info": {
   "codemirror_mode": {
    "name": "ipython",
    "version": 3
   },
   "file_extension": ".py",
   "mimetype": "text/x-python",
   "name": "python",
   "nbconvert_exporter": "python",
   "pygments_lexer": "ipython3",
   "version": "3.9.10"
  },
  "orig_nbformat": 4,
  "vscode": {
   "interpreter": {
    "hash": "aee8b7b246df8f9039afb4144a1f6fd8d2ca17a180786b69acc140d282b71a49"
   }
  }
 },
 "nbformat": 4,
 "nbformat_minor": 2
}

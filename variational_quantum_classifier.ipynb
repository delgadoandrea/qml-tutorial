{
 "cells": [
  {
   "attachments": {},
   "cell_type": "markdown",
   "metadata": {},
   "source": [
    "## Variational Quantum Classifier\n",
    "\n",
    "This notebook will walk you through the training of a variational quantum classifier."
   ]
  },
  {
   "cell_type": "code",
   "execution_count": 1,
   "metadata": {},
   "outputs": [],
   "source": [
    "import pandas as pd\n",
    "import numpy as np\n",
    "from pennylane import numpy as np\n",
    "from sklearn.preprocessing import normalize\n",
    "from sklearn.preprocessing import StandardScaler\n",
    "\n",
    "import pennylane as qml\n",
    "from pennylane.templates.embeddings import AngleEmbedding, AmplitudeEmbedding\n",
    "from pennylane.optimize import AdamOptimizer\n",
    "from sklearn.decomposition import PCA\n",
    "from sklearn.preprocessing import StandardScaler\n",
    "from sklearn import metrics\n",
    "from sklearn.model_selection import train_test_split\n",
    "from sklearn.preprocessing import MinMaxScaler\n",
    "\n",
    "\n",
    "import time\n",
    "start = time.time()"
   ]
  },
  {
   "cell_type": "code",
   "execution_count": 2,
   "metadata": {},
   "outputs": [
    {
     "name": "stdout",
     "output_type": "stream",
     "text": [
      "<class 'pandas.core.frame.DataFrame'>\n",
      "RangeIndex: 50000 entries, 0 to 49999\n",
      "Data columns (total 11 columns):\n",
      " #   Column  Non-Null Count  Dtype  \n",
      "---  ------  --------------  -----  \n",
      " 0   X1      50000 non-null  float64\n",
      " 1   X2      50000 non-null  float64\n",
      " 2   X3      50000 non-null  float64\n",
      " 3   X4      50000 non-null  float64\n",
      " 4   X5      50000 non-null  float64\n",
      " 5   X6      50000 non-null  float64\n",
      " 6   X7      50000 non-null  float64\n",
      " 7   X8      50000 non-null  float64\n",
      " 8   X9      50000 non-null  float64\n",
      " 9   X10     50000 non-null  float64\n",
      " 10  y       50000 non-null  float64\n",
      "dtypes: float64(11)\n",
      "memory usage: 4.2 MB\n"
     ]
    }
   ],
   "source": [
    "# Read out CSV and sets/samples creation\n",
    "\n",
    "df = pd.read_csv('synthetic_data.csv', sep=',')\n",
    "df = df.astype(float)\n",
    "# Review the information related to the dataframe\n",
    "\n",
    "df.info()"
   ]
  },
  {
   "cell_type": "code",
   "execution_count": 3,
   "metadata": {},
   "outputs": [
    {
     "data": {
      "text/html": [
       "<div>\n",
       "<style scoped>\n",
       "    .dataframe tbody tr th:only-of-type {\n",
       "        vertical-align: middle;\n",
       "    }\n",
       "\n",
       "    .dataframe tbody tr th {\n",
       "        vertical-align: top;\n",
       "    }\n",
       "\n",
       "    .dataframe thead th {\n",
       "        text-align: right;\n",
       "    }\n",
       "</style>\n",
       "<table border=\"1\" class=\"dataframe\">\n",
       "  <thead>\n",
       "    <tr style=\"text-align: right;\">\n",
       "      <th></th>\n",
       "      <th>X1</th>\n",
       "      <th>X2</th>\n",
       "      <th>X3</th>\n",
       "      <th>X4</th>\n",
       "      <th>X5</th>\n",
       "      <th>X6</th>\n",
       "      <th>X7</th>\n",
       "      <th>X8</th>\n",
       "      <th>X9</th>\n",
       "      <th>X10</th>\n",
       "      <th>y</th>\n",
       "    </tr>\n",
       "  </thead>\n",
       "  <tbody>\n",
       "    <tr>\n",
       "      <th>0</th>\n",
       "      <td>1.0</td>\n",
       "      <td>0.031390</td>\n",
       "      <td>0.031390</td>\n",
       "      <td>0.031390</td>\n",
       "      <td>0.031390</td>\n",
       "      <td>0.031390</td>\n",
       "      <td>0.031390</td>\n",
       "      <td>0.031390</td>\n",
       "      <td>0.031390</td>\n",
       "      <td>0.031390</td>\n",
       "      <td>1.0</td>\n",
       "    </tr>\n",
       "    <tr>\n",
       "      <th>1</th>\n",
       "      <td>1.0</td>\n",
       "      <td>5.234565</td>\n",
       "      <td>5.234565</td>\n",
       "      <td>5.234565</td>\n",
       "      <td>5.234565</td>\n",
       "      <td>5.234565</td>\n",
       "      <td>5.234565</td>\n",
       "      <td>5.234565</td>\n",
       "      <td>5.234565</td>\n",
       "      <td>5.234565</td>\n",
       "      <td>1.0</td>\n",
       "    </tr>\n",
       "    <tr>\n",
       "      <th>2</th>\n",
       "      <td>1.0</td>\n",
       "      <td>9.354209</td>\n",
       "      <td>9.354209</td>\n",
       "      <td>9.354209</td>\n",
       "      <td>9.354209</td>\n",
       "      <td>9.354209</td>\n",
       "      <td>9.354209</td>\n",
       "      <td>9.354209</td>\n",
       "      <td>9.354209</td>\n",
       "      <td>9.354209</td>\n",
       "      <td>1.0</td>\n",
       "    </tr>\n",
       "    <tr>\n",
       "      <th>3</th>\n",
       "      <td>1.0</td>\n",
       "      <td>-8.133407</td>\n",
       "      <td>-8.133407</td>\n",
       "      <td>-8.133407</td>\n",
       "      <td>-8.133407</td>\n",
       "      <td>-8.133407</td>\n",
       "      <td>-8.133407</td>\n",
       "      <td>-8.133407</td>\n",
       "      <td>-8.133407</td>\n",
       "      <td>-8.133407</td>\n",
       "      <td>0.0</td>\n",
       "    </tr>\n",
       "    <tr>\n",
       "      <th>4</th>\n",
       "      <td>1.0</td>\n",
       "      <td>-5.471547</td>\n",
       "      <td>-5.471547</td>\n",
       "      <td>-5.471547</td>\n",
       "      <td>-5.471547</td>\n",
       "      <td>-5.471547</td>\n",
       "      <td>-5.471547</td>\n",
       "      <td>-5.471547</td>\n",
       "      <td>-5.471547</td>\n",
       "      <td>-5.471547</td>\n",
       "      <td>0.0</td>\n",
       "    </tr>\n",
       "  </tbody>\n",
       "</table>\n",
       "</div>"
      ],
      "text/plain": [
       "    X1        X2        X3        X4        X5        X6        X7        X8  \\\n",
       "0  1.0  0.031390  0.031390  0.031390  0.031390  0.031390  0.031390  0.031390   \n",
       "1  1.0  5.234565  5.234565  5.234565  5.234565  5.234565  5.234565  5.234565   \n",
       "2  1.0  9.354209  9.354209  9.354209  9.354209  9.354209  9.354209  9.354209   \n",
       "3  1.0 -8.133407 -8.133407 -8.133407 -8.133407 -8.133407 -8.133407 -8.133407   \n",
       "4  1.0 -5.471547 -5.471547 -5.471547 -5.471547 -5.471547 -5.471547 -5.471547   \n",
       "\n",
       "         X9       X10    y  \n",
       "0  0.031390  0.031390  1.0  \n",
       "1  5.234565  5.234565  1.0  \n",
       "2  9.354209  9.354209  1.0  \n",
       "3 -8.133407 -8.133407  0.0  \n",
       "4 -5.471547 -5.471547  0.0  "
      ]
     },
     "execution_count": 3,
     "metadata": {},
     "output_type": "execute_result"
    }
   ],
   "source": [
    "df.head()\n"
   ]
  },
  {
   "cell_type": "code",
   "execution_count": 4,
   "metadata": {},
   "outputs": [
    {
     "data": {
      "text/html": [
       "<div>\n",
       "<style scoped>\n",
       "    .dataframe tbody tr th:only-of-type {\n",
       "        vertical-align: middle;\n",
       "    }\n",
       "\n",
       "    .dataframe tbody tr th {\n",
       "        vertical-align: top;\n",
       "    }\n",
       "\n",
       "    .dataframe thead th {\n",
       "        text-align: right;\n",
       "    }\n",
       "</style>\n",
       "<table border=\"1\" class=\"dataframe\">\n",
       "  <thead>\n",
       "    <tr style=\"text-align: right;\">\n",
       "      <th></th>\n",
       "      <th>X1</th>\n",
       "      <th>X2</th>\n",
       "      <th>X3</th>\n",
       "      <th>X4</th>\n",
       "      <th>X5</th>\n",
       "      <th>X6</th>\n",
       "      <th>X7</th>\n",
       "      <th>X8</th>\n",
       "      <th>X9</th>\n",
       "      <th>X10</th>\n",
       "      <th>y</th>\n",
       "    </tr>\n",
       "  </thead>\n",
       "  <tbody>\n",
       "    <tr>\n",
       "      <th>count</th>\n",
       "      <td>50000.0</td>\n",
       "      <td>50000.000000</td>\n",
       "      <td>50000.000000</td>\n",
       "      <td>50000.000000</td>\n",
       "      <td>50000.000000</td>\n",
       "      <td>50000.000000</td>\n",
       "      <td>50000.000000</td>\n",
       "      <td>50000.000000</td>\n",
       "      <td>50000.000000</td>\n",
       "      <td>50000.000000</td>\n",
       "      <td>50000.000000</td>\n",
       "    </tr>\n",
       "    <tr>\n",
       "      <th>mean</th>\n",
       "      <td>1.0</td>\n",
       "      <td>0.028783</td>\n",
       "      <td>0.028783</td>\n",
       "      <td>0.028783</td>\n",
       "      <td>0.028783</td>\n",
       "      <td>0.028783</td>\n",
       "      <td>0.028783</td>\n",
       "      <td>0.028783</td>\n",
       "      <td>0.028783</td>\n",
       "      <td>0.028783</td>\n",
       "      <td>0.478760</td>\n",
       "    </tr>\n",
       "    <tr>\n",
       "      <th>std</th>\n",
       "      <td>0.0</td>\n",
       "      <td>5.761384</td>\n",
       "      <td>5.761384</td>\n",
       "      <td>5.761384</td>\n",
       "      <td>5.761384</td>\n",
       "      <td>5.761384</td>\n",
       "      <td>5.761384</td>\n",
       "      <td>5.761384</td>\n",
       "      <td>5.761384</td>\n",
       "      <td>5.761384</td>\n",
       "      <td>0.499554</td>\n",
       "    </tr>\n",
       "    <tr>\n",
       "      <th>min</th>\n",
       "      <td>1.0</td>\n",
       "      <td>-9.999899</td>\n",
       "      <td>-9.999899</td>\n",
       "      <td>-9.999899</td>\n",
       "      <td>-9.999899</td>\n",
       "      <td>-9.999899</td>\n",
       "      <td>-9.999899</td>\n",
       "      <td>-9.999899</td>\n",
       "      <td>-9.999899</td>\n",
       "      <td>-9.999899</td>\n",
       "      <td>0.000000</td>\n",
       "    </tr>\n",
       "    <tr>\n",
       "      <th>25%</th>\n",
       "      <td>1.0</td>\n",
       "      <td>-4.926806</td>\n",
       "      <td>-4.926806</td>\n",
       "      <td>-4.926806</td>\n",
       "      <td>-4.926806</td>\n",
       "      <td>-4.926806</td>\n",
       "      <td>-4.926806</td>\n",
       "      <td>-4.926806</td>\n",
       "      <td>-4.926806</td>\n",
       "      <td>-4.926806</td>\n",
       "      <td>0.000000</td>\n",
       "    </tr>\n",
       "    <tr>\n",
       "      <th>50%</th>\n",
       "      <td>1.0</td>\n",
       "      <td>0.057610</td>\n",
       "      <td>0.057610</td>\n",
       "      <td>0.057610</td>\n",
       "      <td>0.057610</td>\n",
       "      <td>0.057610</td>\n",
       "      <td>0.057610</td>\n",
       "      <td>0.057610</td>\n",
       "      <td>0.057610</td>\n",
       "      <td>0.057610</td>\n",
       "      <td>0.000000</td>\n",
       "    </tr>\n",
       "    <tr>\n",
       "      <th>75%</th>\n",
       "      <td>1.0</td>\n",
       "      <td>4.996073</td>\n",
       "      <td>4.996073</td>\n",
       "      <td>4.996073</td>\n",
       "      <td>4.996073</td>\n",
       "      <td>4.996073</td>\n",
       "      <td>4.996073</td>\n",
       "      <td>4.996073</td>\n",
       "      <td>4.996073</td>\n",
       "      <td>4.996073</td>\n",
       "      <td>1.000000</td>\n",
       "    </tr>\n",
       "    <tr>\n",
       "      <th>max</th>\n",
       "      <td>1.0</td>\n",
       "      <td>9.999712</td>\n",
       "      <td>9.999712</td>\n",
       "      <td>9.999712</td>\n",
       "      <td>9.999712</td>\n",
       "      <td>9.999712</td>\n",
       "      <td>9.999712</td>\n",
       "      <td>9.999712</td>\n",
       "      <td>9.999712</td>\n",
       "      <td>9.999712</td>\n",
       "      <td>1.000000</td>\n",
       "    </tr>\n",
       "  </tbody>\n",
       "</table>\n",
       "</div>"
      ],
      "text/plain": [
       "            X1            X2            X3            X4            X5  \\\n",
       "count  50000.0  50000.000000  50000.000000  50000.000000  50000.000000   \n",
       "mean       1.0      0.028783      0.028783      0.028783      0.028783   \n",
       "std        0.0      5.761384      5.761384      5.761384      5.761384   \n",
       "min        1.0     -9.999899     -9.999899     -9.999899     -9.999899   \n",
       "25%        1.0     -4.926806     -4.926806     -4.926806     -4.926806   \n",
       "50%        1.0      0.057610      0.057610      0.057610      0.057610   \n",
       "75%        1.0      4.996073      4.996073      4.996073      4.996073   \n",
       "max        1.0      9.999712      9.999712      9.999712      9.999712   \n",
       "\n",
       "                 X6            X7            X8            X9           X10  \\\n",
       "count  50000.000000  50000.000000  50000.000000  50000.000000  50000.000000   \n",
       "mean       0.028783      0.028783      0.028783      0.028783      0.028783   \n",
       "std        5.761384      5.761384      5.761384      5.761384      5.761384   \n",
       "min       -9.999899     -9.999899     -9.999899     -9.999899     -9.999899   \n",
       "25%       -4.926806     -4.926806     -4.926806     -4.926806     -4.926806   \n",
       "50%        0.057610      0.057610      0.057610      0.057610      0.057610   \n",
       "75%        4.996073      4.996073      4.996073      4.996073      4.996073   \n",
       "max        9.999712      9.999712      9.999712      9.999712      9.999712   \n",
       "\n",
       "                  y  \n",
       "count  50000.000000  \n",
       "mean       0.478760  \n",
       "std        0.499554  \n",
       "min        0.000000  \n",
       "25%        0.000000  \n",
       "50%        0.000000  \n",
       "75%        1.000000  \n",
       "max        1.000000  "
      ]
     },
     "execution_count": 4,
     "metadata": {},
     "output_type": "execute_result"
    }
   ],
   "source": [
    "df.describe()"
   ]
  },
  {
   "attachments": {},
   "cell_type": "markdown",
   "metadata": {},
   "source": [
    "Split dataset into training and test, with a 70/30 fraction."
   ]
  },
  {
   "cell_type": "code",
   "execution_count": 5,
   "metadata": {},
   "outputs": [],
   "source": [
    "train,test = train_test_split(df, test_size=0.30, random_state=2)\n",
    "train_set = train\n",
    "test_set = test\n",
    "train_set = train_set.sample(160)\n",
    "test_set = test_set.sample(40)\n",
    "np.random.seed(42)"
   ]
  },
  {
   "cell_type": "code",
   "execution_count": 6,
   "metadata": {},
   "outputs": [],
   "source": [
    "# Separation of labels\n",
    "\n",
    "x_train = train_set\n",
    "y_train = train_set[['y']]\n",
    "\n",
    "x_test = test_set\n",
    "y_test = test_set[['y']]"
   ]
  },
  {
   "attachments": {},
   "cell_type": "markdown",
   "metadata": {},
   "source": [
    "Reduce dimensions using PCA to reduce the number of qubits used, since we will use the `angle encoding` method, that scales with the number of features."
   ]
  },
  {
   "cell_type": "code",
   "execution_count": 7,
   "metadata": {},
   "outputs": [],
   "source": [
    "n_dim = 2\n",
    "pca = PCA(n_components=n_dim)\n",
    "pca.fit(x_train)\n",
    "\n",
    "x_train = pca.transform(x_train)\n",
    "\n",
    "pca.fit(x_test)\n",
    "x_test = pca.transform(x_test)"
   ]
  },
  {
   "cell_type": "code",
   "execution_count": 8,
   "metadata": {},
   "outputs": [],
   "source": [
    "# Normalize\n",
    "\n",
    "std_scale = StandardScaler().fit(x_train)\n",
    "data = std_scale.transform(x_train)\n",
    "\n",
    "std_scale = StandardScaler().fit(x_test)\n",
    "x_test = std_scale.transform(x_test)"
   ]
  },
  {
   "cell_type": "code",
   "execution_count": 9,
   "metadata": {},
   "outputs": [
    {
     "data": {
      "text/plain": [
       "y  \n",
       "1.0    55.0\n",
       "0.0    45.0\n",
       "dtype: float64"
      ]
     },
     "execution_count": 9,
     "metadata": {},
     "output_type": "execute_result"
    }
   ],
   "source": [
    "# Review the balance of the target variable in train\n",
    "\n",
    "y_train.value_counts(normalize=True)*100"
   ]
  },
  {
   "cell_type": "code",
   "execution_count": 10,
   "metadata": {},
   "outputs": [
    {
     "data": {
      "text/plain": [
       "y  \n",
       "0.0    60.0\n",
       "1.0    40.0\n",
       "dtype: float64"
      ]
     },
     "execution_count": 10,
     "metadata": {},
     "output_type": "execute_result"
    }
   ],
   "source": [
    "# Review the balance of the target variable in test\n",
    "\n",
    "y_test.value_counts(normalize=True)*100"
   ]
  },
  {
   "cell_type": "code",
   "execution_count": 11,
   "metadata": {},
   "outputs": [
    {
     "data": {
      "image/png": "[encoded data removed]",
      "text/plain": [
       "<Figure size 432x288 with 1 Axes>"
      ]
     },
     "metadata": {
      "needs_background": "light"
     },
     "output_type": "display_data"
    }
   ],
   "source": [
    "import matplotlib.pyplot as plt\n",
    "\n",
    "plt.figure()\n",
    "plt.scatter(x_train[:, 0][y_train['y'] == 1], x_train[:, 1][y_train['y'] == 1], c=\"b\", marker=\"o\", edgecolors=\"k\")\n",
    "plt.scatter(x_train[:, 0][y_train['y'] == 0], x_train[:, 1][y_train['y'] == 0], c=\"r\", marker=\"o\", edgecolors=\"k\")\n",
    "plt.title(\"Test data\")\n",
    "plt.show()"
   ]
  },
  {
   "attachments": {},
   "cell_type": "markdown",
   "metadata": {},
   "source": [
    "Build the circuit!"
   ]
  },
  {
   "cell_type": "code",
   "execution_count": 12,
   "metadata": {},
   "outputs": [],
   "source": [
    "# Angle Encoding\n",
    "\n",
    "num_qubits = n_dim\n",
    "\n",
    "dev = qml.device('default.qubit', wires = num_qubits)\n",
    "\n",
    "@qml.qnode(dev)\n",
    "def circuit(parameters, data):\n",
    "    for i in range(num_qubits):\n",
    "        qml.Hadamard(wires = i)\n",
    "    \n",
    "    AngleEmbedding(features = data, wires = range(num_qubits), rotation = 'Y')\n",
    "    \n",
    "    qml.StronglyEntanglingLayers(weights = parameters, wires = range(num_qubits))\n",
    "    \n",
    "    return qml.expval(qml.PauliZ(0))"
   ]
  },
  {
   "attachments": {},
   "cell_type": "markdown",
   "metadata": {},
   "source": [
    "Generate a set of random parameters to initialize the circuit."
   ]
  },
  {
   "cell_type": "code",
   "execution_count": 13,
   "metadata": {},
   "outputs": [],
   "source": [
    "num_layers = 5\n",
    "weights_init = 0.01 * np.random.randn(num_layers, num_qubits, 3, requires_grad=True)\n",
    "bias_init = np.array(0.0, requires_grad=True)"
   ]
  },
  {
   "cell_type": "code",
   "execution_count": 14,
   "metadata": {},
   "outputs": [
    {
     "data": {
      "image/png": "[encoded data removed]",
      "text/plain": [
       "<Figure size 432x216 with 1 Axes>"
      ]
     },
     "metadata": {},
     "output_type": "display_data"
    }
   ],
   "source": [
    "%%capture --no-display\n",
    "drawer = qml.draw_mpl(circuit)\n",
    "print(drawer(weights_init,data[0]))"
   ]
  },
  {
   "cell_type": "code",
   "execution_count": 15,
   "metadata": {},
   "outputs": [],
   "source": [
    "def variational_classifier(weights, bias, x):\n",
    "    return circuit(weights, x) + bias"
   ]
  },
  {
   "cell_type": "code",
   "execution_count": 16,
   "metadata": {},
   "outputs": [],
   "source": [
    "def square_loss(labels, predictions):\n",
    "    loss = 0\n",
    "    for l, p in zip(labels, predictions):\n",
    "        loss = loss + (l - p) ** 2\n",
    "\n",
    "    loss = loss / len(labels)\n",
    "    return loss"
   ]
  },
  {
   "cell_type": "code",
   "execution_count": 17,
   "metadata": {},
   "outputs": [],
   "source": [
    "def accuracy(labels, predictions):\n",
    "\n",
    "    loss = 0\n",
    "    for l, p in zip(labels, predictions):\n",
    "        if abs(l - p) < 1e-5:\n",
    "            loss = loss + 1\n",
    "    loss = loss / len(labels)\n",
    "\n",
    "    return loss"
   ]
  },
  {
   "cell_type": "code",
   "execution_count": 18,
   "metadata": {},
   "outputs": [],
   "source": [
    "def cost(weights, bias, X, Y):\n",
    "    predictions = [variational_classifier(weights, bias, x) for x in X]\n",
    "    return square_loss(Y, predictions)"
   ]
  },
  {
   "attachments": {},
   "cell_type": "markdown",
   "metadata": {},
   "source": [
    "Normalize labels so that they are [-1,1]"
   ]
  },
  {
   "cell_type": "code",
   "execution_count": 19,
   "metadata": {},
   "outputs": [
    {
     "name": "stdout",
     "output_type": "stream",
     "text": [
      "X = [tensor(-1.11087556, requires_grad=False), tensor(0.07222385, requires_grad=False)], Y =  1\n",
      "X = [tensor(-1.54952209, requires_grad=False), tensor(0.77596637, requires_grad=False)], Y =  1\n",
      "X = [tensor(0.89795482, requires_grad=False), tensor(0.64937756, requires_grad=False)], Y = -1\n",
      "X = [tensor(-0.2833601, requires_grad=False), tensor(-1.25540047, requires_grad=False)], Y =  1\n",
      "X = [tensor(-0.71182393, requires_grad=False), tensor(-0.56799458, requires_grad=False)], Y =  1\n"
     ]
    }
   ],
   "source": [
    "Y = np.array(y_train.values[:,0] * 2 - np.ones(len(y_train.values[:,0])), requires_grad = False)  # shift label from {0, 1} to {-1, 1}\n",
    "X = np.array(data, requires_grad=False)\n",
    "\n",
    "for i in range(5):\n",
    "    print(\"X = {}, Y = {: d}\".format(list(X[i]), int(Y[i])))"
   ]
  },
  {
   "cell_type": "code",
   "execution_count": 20,
   "metadata": {},
   "outputs": [],
   "source": [
    "opt = AdamOptimizer(stepsize=0.1, beta1=0.9, beta2=0.99, eps=1e-08)\n",
    "batch_size = 10"
   ]
  },
  {
   "cell_type": "code",
   "execution_count": 21,
   "metadata": {},
   "outputs": [
    {
     "name": "stdout",
     "output_type": "stream",
     "text": [
      "New best\n",
      "Iter:     1 | Cost: 1.0412915 | Accuracy: 0.5687500 \n",
      "New best\n",
      "Iter:     2 | Cost: 0.8594871 | Accuracy: 0.6250000 \n",
      "New best\n",
      "Iter:     3 | Cost: 0.6605213 | Accuracy: 0.6625000 \n",
      "New best\n",
      "Iter:     4 | Cost: 0.4317071 | Accuracy: 0.8375000 \n",
      "New best\n",
      "Iter:     5 | Cost: 0.2843430 | Accuracy: 1.0000000 \n"
     ]
    }
   ],
   "source": [
    "weights = weights_init\n",
    "bias = bias_init\n",
    "\n",
    "wbest = 0\n",
    "bbest = 0\n",
    "abest = 0\n",
    "\n",
    "for it in range(5):\n",
    "\n",
    "    # weights update by one optimizer step\n",
    "\n",
    "    batch_index = np.random.randint(0, len(X), (batch_size,))\n",
    "    X_batch = X[batch_index]\n",
    "    Y_batch = Y[batch_index]\n",
    "    weights, bias, _, _ = opt.step(cost, weights, bias, X_batch, Y_batch)\n",
    "\n",
    "    # Compute the accuracy\n",
    "    predictions = [np.sign(variational_classifier(weights, bias, x)) for x in X]\n",
    "    \n",
    "    if accuracy(Y, predictions) > abest:\n",
    "        wbest = weights\n",
    "        bbest = bias\n",
    "        abest = accuracy(Y, predictions)\n",
    "        print('New best')\n",
    "\n",
    "    acc = accuracy(Y, predictions)\n",
    "\n",
    "    print(\n",
    "        \"Iter: {:5d} | Cost: {:0.7f} | Accuracy: {:0.7f} \".format(\n",
    "            it + 1, cost(weights, bias, X, Y), acc\n",
    "        )\n",
    "    )"
   ]
  },
  {
   "attachments": {},
   "cell_type": "markdown",
   "metadata": {},
   "source": [
    "Change labels of test dataset"
   ]
  },
  {
   "cell_type": "code",
   "execution_count": 28,
   "metadata": {},
   "outputs": [],
   "source": [
    "Yte = np.array(y_test.values[:,0] * 2 - np.ones(len(y_test.values[:,0])), requires_grad = False)\n",
    "Xte = np.array(normalize(x_test), requires_grad=False)"
   ]
  },
  {
   "cell_type": "code",
   "execution_count": 35,
   "metadata": {},
   "outputs": [
    {
     "name": "stdout",
     "output_type": "stream",
     "text": [
      "Cost: 0.2912114589590978, Accuracy: 100.0%\n"
     ]
    }
   ],
   "source": [
    "predictions = [np.sign(variational_classifier(wbest, bbest, x)) for x in Xte]\n",
    "pred = [np.sign(variational_classifier(wbest, bbest, x)) for x in X]\n",
    "acc = accuracy(-1.0*Yte, predictions)\n",
    "\n",
    "print(f'Cost: {cost(wbest, bbest, Xte, -1.0*Yte)}, Accuracy: {np.round(acc, 2) * 100}%')"
   ]
  },
  {
   "cell_type": "code",
   "execution_count": 36,
   "metadata": {},
   "outputs": [
    {
     "name": "stdout",
     "output_type": "stream",
     "text": [
      "              precision    recall  f1-score   support\n",
      "\n",
      "        -1.0       1.00      1.00      1.00        16\n",
      "         1.0       1.00      1.00      1.00        24\n",
      "\n",
      "    accuracy                           1.00        40\n",
      "   macro avg       1.00      1.00      1.00        40\n",
      "weighted avg       1.00      1.00      1.00        40\n",
      "\n",
      "1.0\n",
      "1.0\n",
      "1.0\n",
      "1.0\n"
     ]
    }
   ],
   "source": [
    "# Print the classification report and important metrics\n",
    "\n",
    "print(metrics.classification_report(predictions,-1.0*Yte))\n",
    "print(metrics.precision_score(predictions,-1.0*Yte))\n",
    "print(metrics.recall_score(predictions,-1.0*Yte))\n",
    "print(metrics.f1_score(predictions,-1.0*Yte))\n",
    "print(metrics.balanced_accuracy_score(predictions,-1.0*Yte))"
   ]
  }
 ],
 "metadata": {
  "kernelspec": {
   "display_name": "base",
   "language": "python",
   "name": "python3"
  },
  "language_info": {
   "codemirror_mode": {
    "name": "ipython",
    "version": 3
   },
   "file_extension": ".py",
   "mimetype": "text/x-python",
   "name": "python",
   "nbconvert_exporter": "python",
   "pygments_lexer": "ipython3",
   "version": "3.8.8"
  },
  "orig_nbformat": 4
 },
 "nbformat": 4,
 "nbformat_minor": 2
}
